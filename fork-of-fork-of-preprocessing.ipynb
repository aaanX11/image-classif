{
 "cells": [
  {
   "cell_type": "code",
   "execution_count": 1,
   "id": "83f4fbf8",
   "metadata": {
    "_cell_guid": "b1076dfc-b9ad-4769-8c92-a6c4dae69d19",
    "_uuid": "8f2839f25d086af736a60e9eeb907d3b93b6e0e5",
    "execution": {
     "iopub.execute_input": "2023-04-15T06:39:32.774571Z",
     "iopub.status.busy": "2023-04-15T06:39:32.774112Z",
     "iopub.status.idle": "2023-04-15T06:39:32.785288Z",
     "shell.execute_reply": "2023-04-15T06:39:32.784420Z"
    },
    "papermill": {
     "duration": 0.020718,
     "end_time": "2023-04-15T06:39:32.787498",
     "exception": false,
     "start_time": "2023-04-15T06:39:32.766780",
     "status": "completed"
    },
    "tags": []
   },
   "outputs": [],
   "source": [
    "# This Python 3 environment comes with many helpful analytics libraries installed\n",
    "# It is defined by the kaggle/python Docker image: https://github.com/kaggle/docker-python\n",
    "# For example, here's several helpful packages to load\n",
    "\n",
    "import numpy as np # linear algebra\n",
    "import pandas as pd # data processing, CSV file I/O (e.g. pd.read_csv)\n",
    "\n",
    "# Input data files are available in the read-only \"../input/\" directory\n",
    "# For example, running this (by clicking run or pressing Shift+Enter) will list all files under the input directory\n",
    "\n",
    "import os\n",
    "# for dirname, _, filenames in os.walk('/kaggle/input'):\n",
    "#     for filename in filenames:\n",
    "#         pass\n",
    "#         print(os.path.join(dirname, filename))\n",
    "\n",
    "\n",
    "# You can write up to 20GB to the current directory (/kaggle/working/) that gets preserved as output when you create a version using \"Save & Run All\" \n",
    "# You can also write temporary files to /kaggle/temp/, but they won't be saved outside of the current session"
   ]
  },
  {
   "cell_type": "code",
   "execution_count": 2,
   "id": "84bf2f22",
   "metadata": {
    "execution": {
     "iopub.execute_input": "2023-04-15T06:39:32.797990Z",
     "iopub.status.busy": "2023-04-15T06:39:32.797689Z",
     "iopub.status.idle": "2023-04-15T06:39:35.913340Z",
     "shell.execute_reply": "2023-04-15T06:39:35.912277Z"
    },
    "papermill": {
     "duration": 3.123791,
     "end_time": "2023-04-15T06:39:35.915978",
     "exception": false,
     "start_time": "2023-04-15T06:39:32.792187",
     "status": "completed"
    },
    "tags": []
   },
   "outputs": [],
   "source": [
    "import argparse\n",
    "import os\n",
    "import random\n",
    "import shutil\n",
    "import time\n",
    "import warnings\n",
    "from enum import Enum\n",
    "\n",
    "import torch\n",
    "import torch.backends.cudnn as cudnn\n",
    "import torch.distributed as dist\n",
    "import torch.multiprocessing as mp\n",
    "import torch.nn as nn\n",
    "import torch.nn.parallel\n",
    "import torch.optim\n",
    "import torch.utils.data\n",
    "import torch.utils.data.distributed\n",
    "import torchvision.datasets as datasets\n",
    "import torchvision.models as models\n",
    "import torchvision.transforms as transforms\n",
    "from torch.optim.lr_scheduler import StepLR\n",
    "from torch.utils.data import Subset\n"
   ]
  },
  {
   "cell_type": "code",
   "execution_count": 3,
   "id": "6a771122",
   "metadata": {
    "execution": {
     "iopub.execute_input": "2023-04-15T06:39:35.927242Z",
     "iopub.status.busy": "2023-04-15T06:39:35.926806Z",
     "iopub.status.idle": "2023-04-15T06:39:35.932675Z",
     "shell.execute_reply": "2023-04-15T06:39:35.931742Z"
    },
    "papermill": {
     "duration": 0.013575,
     "end_time": "2023-04-15T06:39:35.934882",
     "exception": false,
     "start_time": "2023-04-15T06:39:35.921307",
     "status": "completed"
    },
    "tags": []
   },
   "outputs": [],
   "source": [
    "# !pip install torchinfo torchmetrics"
   ]
  },
  {
   "cell_type": "code",
   "execution_count": 4,
   "id": "d276b245",
   "metadata": {
    "execution": {
     "iopub.execute_input": "2023-04-15T06:39:35.945075Z",
     "iopub.status.busy": "2023-04-15T06:39:35.944797Z",
     "iopub.status.idle": "2023-04-15T06:39:39.471380Z",
     "shell.execute_reply": "2023-04-15T06:39:39.470175Z"
    },
    "papermill": {
     "duration": 3.534591,
     "end_time": "2023-04-15T06:39:39.474111",
     "exception": false,
     "start_time": "2023-04-15T06:39:35.939520",
     "status": "completed"
    },
    "tags": []
   },
   "outputs": [],
   "source": [
    "import torch\n",
    "import torch.nn as nn\n",
    "import torch.nn.functional as F\n",
    "import torch.optim as optim\n",
    "from torch.utils.data import Dataset, DataLoader, random_split\n",
    "import torchvision.datasets as datasets\n",
    "from torchvision import transforms\n",
    "import random\n",
    "from torchmetrics import CharErrorRate\n",
    "from torch.optim.lr_scheduler import StepLR, ReduceLROnPlateau\n",
    "import pandas as pd\n",
    "from torchinfo import summary"
   ]
  },
  {
   "cell_type": "code",
   "execution_count": 5,
   "id": "1339d546",
   "metadata": {
    "execution": {
     "iopub.execute_input": "2023-04-15T06:39:39.485471Z",
     "iopub.status.busy": "2023-04-15T06:39:39.485145Z",
     "iopub.status.idle": "2023-04-15T06:39:39.490110Z",
     "shell.execute_reply": "2023-04-15T06:39:39.489052Z"
    },
    "papermill": {
     "duration": 0.01315,
     "end_time": "2023-04-15T06:39:39.492520",
     "exception": false,
     "start_time": "2023-04-15T06:39:39.479370",
     "status": "completed"
    },
    "tags": []
   },
   "outputs": [],
   "source": [
    "from torchvision.models import resnet50, ResNet50_Weights\n",
    "from torchvision.models import resnext50_32x4d, ResNeXt50_32X4D_Weights"
   ]
  },
  {
   "cell_type": "code",
   "execution_count": 6,
   "id": "7a9e5936",
   "metadata": {
    "execution": {
     "iopub.execute_input": "2023-04-15T06:39:39.502540Z",
     "iopub.status.busy": "2023-04-15T06:39:39.502245Z",
     "iopub.status.idle": "2023-04-15T06:39:40.392215Z",
     "shell.execute_reply": "2023-04-15T06:39:40.391184Z"
    },
    "papermill": {
     "duration": 0.898661,
     "end_time": "2023-04-15T06:39:40.395529",
     "exception": false,
     "start_time": "2023-04-15T06:39:39.496868",
     "status": "completed"
    },
    "tags": []
   },
   "outputs": [],
   "source": [
    "import numpy as np\n",
    "from glob import glob\n",
    "from matplotlib.pyplot import imread\n",
    "from PIL import Image\n",
    "from sklearn.model_selection import train_test_split\n",
    "import shutil\n",
    "import time\n",
    "import os\n",
    "import matplotlib.pyplot as plt\n",
    "from tqdm import tqdm\n",
    "import copy"
   ]
  },
  {
   "cell_type": "code",
   "execution_count": 7,
   "id": "8cca8a75",
   "metadata": {
    "execution": {
     "iopub.execute_input": "2023-04-15T06:39:40.407875Z",
     "iopub.status.busy": "2023-04-15T06:39:40.407487Z",
     "iopub.status.idle": "2023-04-15T06:41:10.837224Z",
     "shell.execute_reply": "2023-04-15T06:41:10.834724Z"
    },
    "papermill": {
     "duration": 90.43802,
     "end_time": "2023-04-15T06:41:10.839720",
     "exception": false,
     "start_time": "2023-04-15T06:39:40.401700",
     "status": "completed"
    },
    "tags": []
   },
   "outputs": [
    {
     "name": "stderr",
     "output_type": "stream",
     "text": [
      "45373it [01:30, 502.30it/s]\n"
     ]
    }
   ],
   "source": [
    "#shutil.rmtree(imfolder_path)\n",
    "#shutil.rmtree(os.path.join(r'/kaggle/working', 'test'))\n",
    "try:\n",
    "    os.mkdir(os.path.join(r'/kaggle/working', 'train'))\n",
    "except FileExistsError:\n",
    "    pass\n",
    "try:\n",
    "    os.mkdir(os.path.join(r'/kaggle/working', 'test'))\n",
    "except FileExistsError:\n",
    "    pass\n",
    "\n",
    "mode = r'train'\n",
    "path = os.path.join(r'/kaggle/input/vk-made-sports-image-classification/', mode)\n",
    "imfolder_path = os.path.join(r'/kaggle/working', mode)\n",
    "data_labels = pd.read_csv(path + '.csv')\n",
    "n_samples = len(data_labels)\n",
    "\n",
    "wrong_channel_count = []\n",
    "for idx, row in tqdm(data_labels.iloc[:n_samples].iterrows()):\n",
    "    item_path = os.path.join(path, row.image_id)\n",
    "    item_imfolder_dir =  os.path.join(imfolder_path, row.label)\n",
    "    item_imfolder_dir_test =  os.path.join(r'/kaggle/working/test', row.label)\n",
    "#     print(item_imfolder_dir, item_imfolder_dir_test)\n",
    "#     input()\n",
    "    if not os.path.exists(item_imfolder_dir):\n",
    "        os.mkdir(item_imfolder_dir)\n",
    "    if not os.path.exists(item_imfolder_dir_test):\n",
    "        os.mkdir(item_imfolder_dir_test)\n",
    "\n",
    "    if not os.path.exists(item_path):\n",
    "        print(item_path)\n",
    "        continue\n",
    "#     with Image.open(item_path).convert('RGB') as img:\n",
    "#         chn_cnt = np.asarray(img.getdata()).shape[1]\n",
    "        \n",
    "#         if chn_cnt != 3:\n",
    "#             print('here again')\n",
    "#             wrong_channel_count.append(chn_cnt)\n",
    "#             continue\n",
    "    try:\n",
    "        if np.random.random() < 0.85:\n",
    "            os.symlink(item_path, os.path.join(item_imfolder_dir, row.image_id))\n",
    "        else:\n",
    "            os.symlink(item_path, os.path.join(item_imfolder_dir_test, row.image_id))\n",
    "#         if not os.path.exists(os.path.join(item_imfolder_dir, row.image_id)):\n",
    "#             print(item_path, 'exists ', os.path.exists(item_path))\n",
    "#             print(os.path.join(item_imfolder_dir, row.image_id))\n",
    "#             input()\n",
    "        #print(os.path.join(item_imfolder_path, row.image_id))\n",
    "    except FileExistsError:\n",
    "        pass"
   ]
  },
  {
   "cell_type": "code",
   "execution_count": 8,
   "id": "b08e9592",
   "metadata": {
    "execution": {
     "iopub.execute_input": "2023-04-15T06:41:10.943359Z",
     "iopub.status.busy": "2023-04-15T06:41:10.942953Z",
     "iopub.status.idle": "2023-04-15T06:41:10.952786Z",
     "shell.execute_reply": "2023-04-15T06:41:10.951528Z"
    },
    "papermill": {
     "duration": 0.063549,
     "end_time": "2023-04-15T06:41:10.955250",
     "exception": false,
     "start_time": "2023-04-15T06:41:10.891701",
     "status": "completed"
    },
    "tags": []
   },
   "outputs": [
    {
     "data": {
      "text/plain": [
       "1071"
      ]
     },
     "execution_count": 8,
     "metadata": {},
     "output_type": "execute_result"
    }
   ],
   "source": [
    "len(os.listdir(r'/kaggle/working/train/swimming'))"
   ]
  },
  {
   "cell_type": "code",
   "execution_count": 9,
   "id": "486ad7ab",
   "metadata": {
    "execution": {
     "iopub.execute_input": "2023-04-15T06:41:11.060882Z",
     "iopub.status.busy": "2023-04-15T06:41:11.060440Z",
     "iopub.status.idle": "2023-04-15T06:41:11.068683Z",
     "shell.execute_reply": "2023-04-15T06:41:11.067596Z"
    },
    "papermill": {
     "duration": 0.064784,
     "end_time": "2023-04-15T06:41:11.071216",
     "exception": false,
     "start_time": "2023-04-15T06:41:11.006432",
     "status": "completed"
    },
    "tags": []
   },
   "outputs": [],
   "source": [
    "\n",
    "\n",
    "random_transforms = transforms.RandomApply(nn.ModuleList([\n",
    "    transforms.RandomAffine(degrees=(-2, 2)), \n",
    "    transforms.RandomAdjustSharpness(1.2),\n",
    "    transforms.RandomPerspective(distortion_scale=0.1), \n",
    "    transforms.RandomHorizontalFlip()\n",
    "]))\n",
    "\n"
   ]
  },
  {
   "cell_type": "markdown",
   "id": "0dcd64db",
   "metadata": {
    "papermill": {
     "duration": 0.054842,
     "end_time": "2023-04-15T06:41:11.178162",
     "exception": false,
     "start_time": "2023-04-15T06:41:11.123320",
     "status": "completed"
    },
    "tags": []
   },
   "source": [
    "Based on:\n",
    "\n",
    "## https://github.com/pytorch/examples/blob/main/imagenet/main.py\n",
    "## https://pytorch.org/tutorials/beginner/transfer_learning_tutorial.html"
   ]
  },
  {
   "cell_type": "code",
   "execution_count": 10,
   "id": "72f869a7",
   "metadata": {
    "execution": {
     "iopub.execute_input": "2023-04-15T06:41:11.283670Z",
     "iopub.status.busy": "2023-04-15T06:41:11.282901Z",
     "iopub.status.idle": "2023-04-15T06:41:11.288030Z",
     "shell.execute_reply": "2023-04-15T06:41:11.286936Z"
    },
    "papermill": {
     "duration": 0.060415,
     "end_time": "2023-04-15T06:41:11.290327",
     "exception": false,
     "start_time": "2023-04-15T06:41:11.229912",
     "status": "completed"
    },
    "tags": []
   },
   "outputs": [],
   "source": [
    "MODEL_CLASS = resnext50_32x4d\n",
    "MODEL_WEIGHTS = ResNeXt50_32X4D_Weights.IMAGENET1K_V2\n",
    "MODEL_NAME = 'resnext50_32x4d'"
   ]
  },
  {
   "cell_type": "code",
   "execution_count": 11,
   "id": "7e6d14f6",
   "metadata": {
    "execution": {
     "iopub.execute_input": "2023-04-15T06:41:11.393842Z",
     "iopub.status.busy": "2023-04-15T06:41:11.392720Z",
     "iopub.status.idle": "2023-04-15T06:41:11.398475Z",
     "shell.execute_reply": "2023-04-15T06:41:11.397469Z"
    },
    "papermill": {
     "duration": 0.060157,
     "end_time": "2023-04-15T06:41:11.400719",
     "exception": false,
     "start_time": "2023-04-15T06:41:11.340562",
     "status": "completed"
    },
    "tags": []
   },
   "outputs": [],
   "source": [
    "MODEL_CLASS = resnet50\n",
    "MODEL_WEIGHTS = ResNet50_Weights.DEFAULT\n",
    "MODEL_NAME = 'resnet50'"
   ]
  },
  {
   "cell_type": "code",
   "execution_count": 12,
   "id": "ea07586f",
   "metadata": {
    "execution": {
     "iopub.execute_input": "2023-04-15T06:41:11.502699Z",
     "iopub.status.busy": "2023-04-15T06:41:11.501633Z",
     "iopub.status.idle": "2023-04-15T06:41:11.517261Z",
     "shell.execute_reply": "2023-04-15T06:41:11.516261Z"
    },
    "papermill": {
     "duration": 0.069169,
     "end_time": "2023-04-15T06:41:11.519609",
     "exception": false,
     "start_time": "2023-04-15T06:41:11.450440",
     "status": "completed"
    },
    "tags": []
   },
   "outputs": [],
   "source": [
    "best_acc1 = 0\n",
    "def main_worker(resume=False):\n",
    "    global best_acc1\n",
    "\n",
    "    device = torch.device(\"cuda\")\n",
    "\n",
    "    model = MODEL_CLASS(weights=MODEL_WEIGHTS)  \n",
    "    num_ftrs = model.fc.in_features\n",
    "    model.fc = nn.Linear(num_ftrs, 30)    \n",
    "    model = torch.nn.DataParallel(model).cuda()\n",
    "    criterion = nn.CrossEntropyLoss().to(device)\n",
    "    optimizer = torch.optim.SGD(model.parameters(), 1e-3,\n",
    "                                momentum=0.9,\n",
    "                                weight_decay=1e-4)\n",
    "    scheduler = StepLR(optimizer, step_size=20, gamma=0.2)\n",
    "    start_epoch = 0\n",
    "    if resume:\n",
    "        checkpoint = torch.load(f'/kaggle/working/{MODEL_NAME}_chckpt.pth.tar', map_location='cuda')\n",
    "        model.load_state_dict(checkpoint['state_dict'])\n",
    "        optimizer.load_state_dict(checkpoint['optimizer'])\n",
    "        scheduler.load_state_dict(checkpoint['scheduler'])\n",
    "        start_epoch = checkpoint['epoch']\n",
    "        best_acc1 = checkpoint['best_acc1']\n",
    "    \n",
    "    normalize = transforms.Normalize(mean=[0.485, 0.456, 0.406],\n",
    "                                 std=[0.229, 0.224, 0.225])\n",
    "\n",
    "    train_dataset = datasets.ImageFolder(\n",
    "        r'/kaggle/working/train',\n",
    "        transforms.Compose([\n",
    "            transforms.RandomResizedCrop(224),\n",
    "            random_transforms,\n",
    "            transforms.ToTensor(),\n",
    "            transforms.RandomErasing(p=0.6, scale=(0.02, 0.2)),\n",
    "            normalize\n",
    "        ]))\n",
    "\n",
    "    val_dataset = datasets.ImageFolder(\n",
    "        r'/kaggle/working/test',\n",
    "        transforms.Compose([\n",
    "            transforms.Resize(256),\n",
    "            transforms.CenterCrop(224),\n",
    "            transforms.ToTensor(),\n",
    "            normalize\n",
    "        ]))\n",
    "\n",
    "    \n",
    "    train_loader = torch.utils.data.DataLoader(\n",
    "        train_dataset, batch_size=64, shuffle=True,\n",
    "        pin_memory=True)\n",
    "\n",
    "    val_loader = torch.utils.data.DataLoader(\n",
    "        val_dataset, batch_size=64, shuffle=False,\n",
    "        pin_memory=True)\n",
    "\n",
    "    for epoch in range(start_epoch, start_epoch + 10):\n",
    "        train_epoch(train_loader, model, criterion, optimizer, epoch, device)\n",
    "        \n",
    "        acc1 = validate(val_loader, model, criterion)\n",
    "        \n",
    "        scheduler.step()\n",
    "        \n",
    "        is_best = acc1 > best_acc1\n",
    "        best_acc1 = max(acc1, best_acc1)\n",
    "        print('---------------------------------')\n",
    "        print(f\"val acc: {100 * acc1:6.2f}\")\n",
    "    \n",
    "        save_checkpoint({\n",
    "            'epoch': epoch + 1,\n",
    "            'arch': 'cuda',\n",
    "            'state_dict': model.state_dict(),\n",
    "            'best_acc1': best_acc1,\n",
    "            'optimizer' : optimizer.state_dict(),\n",
    "            'scheduler' : scheduler.state_dict()\n",
    "        }, is_best)\n",
    "    \n"
   ]
  },
  {
   "cell_type": "code",
   "execution_count": 13,
   "id": "3167d7ef",
   "metadata": {
    "execution": {
     "iopub.execute_input": "2023-04-15T06:41:11.633628Z",
     "iopub.status.busy": "2023-04-15T06:41:11.626696Z",
     "iopub.status.idle": "2023-04-15T06:41:11.653117Z",
     "shell.execute_reply": "2023-04-15T06:41:11.651564Z"
    },
    "papermill": {
     "duration": 0.086371,
     "end_time": "2023-04-15T06:41:11.657751",
     "exception": false,
     "start_time": "2023-04-15T06:41:11.571380",
     "status": "completed"
    },
    "tags": []
   },
   "outputs": [],
   "source": [
    "def train_epoch(train_loader, model, criterion, optimizer, epoch, device):\n",
    "    \n",
    "    model.train()\n",
    "\n",
    "    idx_progress = 0\n",
    "    \n",
    "    acc1_sum = 0\n",
    "    val_size = 0\n",
    "    for i, (images, target) in enumerate(train_loader):\n",
    "        images = images.to(device, non_blocking=True)\n",
    "        target = target.to(device, non_blocking=True)\n",
    "\n",
    "        output = model(images)\n",
    "        loss = criterion(output, target)\n",
    "\n",
    "        _, pred = torch.topk(output, 1)\n",
    "        correct = pred.squeeze() == target\n",
    "        acc1_sum += correct.sum()\n",
    "        val_size += images.size(0)\n",
    "\n",
    "        optimizer.zero_grad()\n",
    "        loss.backward()\n",
    "        optimizer.step()\n",
    "        idx_progress += images.size(0)\n",
    "        if idx_progress > 4000:\n",
    "            idx_progress -= 4000\n",
    "            print(f\"train acc1: {100 * acc1_sum/val_size:6.2f}\")\n",
    "\n",
    "\n",
    "def validate(val_loader, model, criterion):        \n",
    "\n",
    "    model.eval()\n",
    "    acc1_sum = 0\n",
    "    val_size = 0\n",
    "    with torch.no_grad():\n",
    "        end = time.time()\n",
    "        for i, (images, target) in enumerate(val_loader):\n",
    "            images = images.cuda(non_blocking=True)\n",
    "\n",
    "            target = target.cuda(non_blocking=True)\n",
    "\n",
    "            output = model(images)\n",
    "            loss = criterion(output, target)\n",
    "\n",
    "            _, pred = torch.topk(output, 1)\n",
    "            correct = pred.squeeze() == target\n",
    "            acc1_sum += correct.sum()\n",
    "            val_size += images.size(0)\n",
    "\n",
    "    return acc1_sum / val_size\n"
   ]
  },
  {
   "cell_type": "code",
   "execution_count": 14,
   "id": "cb0d2cb0",
   "metadata": {
    "execution": {
     "iopub.execute_input": "2023-04-15T06:41:11.774989Z",
     "iopub.status.busy": "2023-04-15T06:41:11.774370Z",
     "iopub.status.idle": "2023-04-15T06:41:11.780200Z",
     "shell.execute_reply": "2023-04-15T06:41:11.779070Z"
    },
    "papermill": {
     "duration": 0.066263,
     "end_time": "2023-04-15T06:41:11.782634",
     "exception": false,
     "start_time": "2023-04-15T06:41:11.716371",
     "status": "completed"
    },
    "tags": []
   },
   "outputs": [],
   "source": [
    "\n",
    "def save_checkpoint(state, is_best, filename=f'/kaggle/working/{MODEL_NAME}_chckpt.pth.tar'):\n",
    "    torch.save(state, filename)\n",
    "    if is_best:\n",
    "        shutil.copyfile(filename, f'/kaggle/working/{MODEL_NAME}_best.pth.tar')"
   ]
  },
  {
   "cell_type": "code",
   "execution_count": 15,
   "id": "0dfe6905",
   "metadata": {
    "execution": {
     "iopub.execute_input": "2023-04-15T06:41:11.892097Z",
     "iopub.status.busy": "2023-04-15T06:41:11.891360Z",
     "iopub.status.idle": "2023-04-15T06:41:11.896354Z",
     "shell.execute_reply": "2023-04-15T06:41:11.895181Z"
    },
    "papermill": {
     "duration": 0.061924,
     "end_time": "2023-04-15T06:41:11.898659",
     "exception": false,
     "start_time": "2023-04-15T06:41:11.836735",
     "status": "completed"
    },
    "tags": []
   },
   "outputs": [],
   "source": [
    "#main_worker(resume=True)\n"
   ]
  },
  {
   "cell_type": "code",
   "execution_count": 16,
   "id": "87fa6a30",
   "metadata": {
    "execution": {
     "iopub.execute_input": "2023-04-15T06:41:12.005941Z",
     "iopub.status.busy": "2023-04-15T06:41:12.004898Z",
     "iopub.status.idle": "2023-04-15T06:41:17.635052Z",
     "shell.execute_reply": "2023-04-15T06:41:17.633301Z"
    },
    "papermill": {
     "duration": 5.685234,
     "end_time": "2023-04-15T06:41:17.636582",
     "exception": true,
     "start_time": "2023-04-15T06:41:11.951348",
     "status": "failed"
    },
    "tags": []
   },
   "outputs": [
    {
     "name": "stderr",
     "output_type": "stream",
     "text": [
      "Downloading: \"https://download.pytorch.org/models/resnet50-11ad3fa6.pth\" to /root/.cache/torch/hub/checkpoints/resnet50-11ad3fa6.pth\n"
     ]
    },
    {
     "data": {
      "application/vnd.jupyter.widget-view+json": {
       "model_id": "ae8dd0592d914956966c5dd18fd502e6",
       "version_major": 2,
       "version_minor": 0
      },
      "text/plain": [
       "  0%|          | 0.00/97.8M [00:00<?, ?B/s]"
      ]
     },
     "metadata": {},
     "output_type": "display_data"
    },
    {
     "ename": "FileNotFoundError",
     "evalue": "[Errno 2] No such file or directory: '/kaggle/working/resnet50_best.pth.tar'",
     "output_type": "error",
     "traceback": [
      "\u001b[0;31m---------------------------------------------------------------------------\u001b[0m",
      "\u001b[0;31mFileNotFoundError\u001b[0m                         Traceback (most recent call last)",
      "\u001b[0;32m/tmp/ipykernel_24/3737566013.py\u001b[0m in \u001b[0;36m<module>\u001b[0;34m\u001b[0m\n\u001b[1;32m     13\u001b[0m \u001b[0;34m\u001b[0m\u001b[0m\n\u001b[1;32m     14\u001b[0m \u001b[0mscheduler\u001b[0m \u001b[0;34m=\u001b[0m \u001b[0mStepLR\u001b[0m\u001b[0;34m(\u001b[0m\u001b[0moptimizer\u001b[0m\u001b[0;34m,\u001b[0m \u001b[0mstep_size\u001b[0m\u001b[0;34m=\u001b[0m\u001b[0;36m20\u001b[0m\u001b[0;34m,\u001b[0m \u001b[0mgamma\u001b[0m\u001b[0;34m=\u001b[0m\u001b[0;36m0.2\u001b[0m\u001b[0;34m)\u001b[0m\u001b[0;34m\u001b[0m\u001b[0;34m\u001b[0m\u001b[0m\n\u001b[0;32m---> 15\u001b[0;31m \u001b[0mcheckpoint\u001b[0m \u001b[0;34m=\u001b[0m \u001b[0mtorch\u001b[0m\u001b[0;34m.\u001b[0m\u001b[0mload\u001b[0m\u001b[0;34m(\u001b[0m\u001b[0;34mf'/kaggle/working/{MODEL_NAME}_best.pth.tar'\u001b[0m\u001b[0;34m,\u001b[0m \u001b[0mmap_location\u001b[0m\u001b[0;34m=\u001b[0m\u001b[0;34m'cuda'\u001b[0m\u001b[0;34m)\u001b[0m\u001b[0;34m\u001b[0m\u001b[0;34m\u001b[0m\u001b[0m\n\u001b[0m\u001b[1;32m     16\u001b[0m \u001b[0mmodel\u001b[0m\u001b[0;34m.\u001b[0m\u001b[0mload_state_dict\u001b[0m\u001b[0;34m(\u001b[0m\u001b[0mcheckpoint\u001b[0m\u001b[0;34m[\u001b[0m\u001b[0;34m'state_dict'\u001b[0m\u001b[0;34m]\u001b[0m\u001b[0;34m)\u001b[0m\u001b[0;34m\u001b[0m\u001b[0;34m\u001b[0m\u001b[0m\n\u001b[1;32m     17\u001b[0m \u001b[0moptimizer\u001b[0m\u001b[0;34m.\u001b[0m\u001b[0mload_state_dict\u001b[0m\u001b[0;34m(\u001b[0m\u001b[0mcheckpoint\u001b[0m\u001b[0;34m[\u001b[0m\u001b[0;34m'optimizer'\u001b[0m\u001b[0;34m]\u001b[0m\u001b[0;34m)\u001b[0m\u001b[0;34m\u001b[0m\u001b[0;34m\u001b[0m\u001b[0m\n",
      "\u001b[0;32m/opt/conda/lib/python3.7/site-packages/torch/serialization.py\u001b[0m in \u001b[0;36mload\u001b[0;34m(f, map_location, pickle_module, weights_only, **pickle_load_args)\u001b[0m\n\u001b[1;32m    769\u001b[0m         \u001b[0mpickle_load_args\u001b[0m\u001b[0;34m[\u001b[0m\u001b[0;34m'encoding'\u001b[0m\u001b[0;34m]\u001b[0m \u001b[0;34m=\u001b[0m \u001b[0;34m'utf-8'\u001b[0m\u001b[0;34m\u001b[0m\u001b[0;34m\u001b[0m\u001b[0m\n\u001b[1;32m    770\u001b[0m \u001b[0;34m\u001b[0m\u001b[0m\n\u001b[0;32m--> 771\u001b[0;31m     \u001b[0;32mwith\u001b[0m \u001b[0m_open_file_like\u001b[0m\u001b[0;34m(\u001b[0m\u001b[0mf\u001b[0m\u001b[0;34m,\u001b[0m \u001b[0;34m'rb'\u001b[0m\u001b[0;34m)\u001b[0m \u001b[0;32mas\u001b[0m \u001b[0mopened_file\u001b[0m\u001b[0;34m:\u001b[0m\u001b[0;34m\u001b[0m\u001b[0;34m\u001b[0m\u001b[0m\n\u001b[0m\u001b[1;32m    772\u001b[0m         \u001b[0;32mif\u001b[0m \u001b[0m_is_zipfile\u001b[0m\u001b[0;34m(\u001b[0m\u001b[0mopened_file\u001b[0m\u001b[0;34m)\u001b[0m\u001b[0;34m:\u001b[0m\u001b[0;34m\u001b[0m\u001b[0;34m\u001b[0m\u001b[0m\n\u001b[1;32m    773\u001b[0m             \u001b[0;31m# The zipfile reader is going to advance the current file position.\u001b[0m\u001b[0;34m\u001b[0m\u001b[0;34m\u001b[0m\u001b[0;34m\u001b[0m\u001b[0m\n",
      "\u001b[0;32m/opt/conda/lib/python3.7/site-packages/torch/serialization.py\u001b[0m in \u001b[0;36m_open_file_like\u001b[0;34m(name_or_buffer, mode)\u001b[0m\n\u001b[1;32m    268\u001b[0m \u001b[0;32mdef\u001b[0m \u001b[0m_open_file_like\u001b[0m\u001b[0;34m(\u001b[0m\u001b[0mname_or_buffer\u001b[0m\u001b[0;34m,\u001b[0m \u001b[0mmode\u001b[0m\u001b[0;34m)\u001b[0m\u001b[0;34m:\u001b[0m\u001b[0;34m\u001b[0m\u001b[0;34m\u001b[0m\u001b[0m\n\u001b[1;32m    269\u001b[0m     \u001b[0;32mif\u001b[0m \u001b[0m_is_path\u001b[0m\u001b[0;34m(\u001b[0m\u001b[0mname_or_buffer\u001b[0m\u001b[0;34m)\u001b[0m\u001b[0;34m:\u001b[0m\u001b[0;34m\u001b[0m\u001b[0;34m\u001b[0m\u001b[0m\n\u001b[0;32m--> 270\u001b[0;31m         \u001b[0;32mreturn\u001b[0m \u001b[0m_open_file\u001b[0m\u001b[0;34m(\u001b[0m\u001b[0mname_or_buffer\u001b[0m\u001b[0;34m,\u001b[0m \u001b[0mmode\u001b[0m\u001b[0;34m)\u001b[0m\u001b[0;34m\u001b[0m\u001b[0;34m\u001b[0m\u001b[0m\n\u001b[0m\u001b[1;32m    271\u001b[0m     \u001b[0;32melse\u001b[0m\u001b[0;34m:\u001b[0m\u001b[0;34m\u001b[0m\u001b[0;34m\u001b[0m\u001b[0m\n\u001b[1;32m    272\u001b[0m         \u001b[0;32mif\u001b[0m \u001b[0;34m'w'\u001b[0m \u001b[0;32min\u001b[0m \u001b[0mmode\u001b[0m\u001b[0;34m:\u001b[0m\u001b[0;34m\u001b[0m\u001b[0;34m\u001b[0m\u001b[0m\n",
      "\u001b[0;32m/opt/conda/lib/python3.7/site-packages/torch/serialization.py\u001b[0m in \u001b[0;36m__init__\u001b[0;34m(self, name, mode)\u001b[0m\n\u001b[1;32m    249\u001b[0m \u001b[0;32mclass\u001b[0m \u001b[0m_open_file\u001b[0m\u001b[0;34m(\u001b[0m\u001b[0m_opener\u001b[0m\u001b[0;34m)\u001b[0m\u001b[0;34m:\u001b[0m\u001b[0;34m\u001b[0m\u001b[0;34m\u001b[0m\u001b[0m\n\u001b[1;32m    250\u001b[0m     \u001b[0;32mdef\u001b[0m \u001b[0m__init__\u001b[0m\u001b[0;34m(\u001b[0m\u001b[0mself\u001b[0m\u001b[0;34m,\u001b[0m \u001b[0mname\u001b[0m\u001b[0;34m,\u001b[0m \u001b[0mmode\u001b[0m\u001b[0;34m)\u001b[0m\u001b[0;34m:\u001b[0m\u001b[0;34m\u001b[0m\u001b[0;34m\u001b[0m\u001b[0m\n\u001b[0;32m--> 251\u001b[0;31m         \u001b[0msuper\u001b[0m\u001b[0;34m(\u001b[0m\u001b[0m_open_file\u001b[0m\u001b[0;34m,\u001b[0m \u001b[0mself\u001b[0m\u001b[0;34m)\u001b[0m\u001b[0;34m.\u001b[0m\u001b[0m__init__\u001b[0m\u001b[0;34m(\u001b[0m\u001b[0mopen\u001b[0m\u001b[0;34m(\u001b[0m\u001b[0mname\u001b[0m\u001b[0;34m,\u001b[0m \u001b[0mmode\u001b[0m\u001b[0;34m)\u001b[0m\u001b[0;34m)\u001b[0m\u001b[0;34m\u001b[0m\u001b[0;34m\u001b[0m\u001b[0m\n\u001b[0m\u001b[1;32m    252\u001b[0m \u001b[0;34m\u001b[0m\u001b[0m\n\u001b[1;32m    253\u001b[0m     \u001b[0;32mdef\u001b[0m \u001b[0m__exit__\u001b[0m\u001b[0;34m(\u001b[0m\u001b[0mself\u001b[0m\u001b[0;34m,\u001b[0m \u001b[0;34m*\u001b[0m\u001b[0margs\u001b[0m\u001b[0;34m)\u001b[0m\u001b[0;34m:\u001b[0m\u001b[0;34m\u001b[0m\u001b[0;34m\u001b[0m\u001b[0m\n",
      "\u001b[0;31mFileNotFoundError\u001b[0m: [Errno 2] No such file or directory: '/kaggle/working/resnet50_best.pth.tar'"
     ]
    }
   ],
   "source": [
    "device = 'cuda'\n",
    "model = MODEL_CLASS(weights=MODEL_WEIGHTS)  \n",
    "num_ftrs = model.fc.in_features\n",
    "\n",
    "model.fc = nn.Linear(num_ftrs, 30)\n",
    "model = nn.DataParallel(model).cuda()\n",
    "criterion = nn.CrossEntropyLoss().to(device)\n",
    "\n",
    "optimizer = torch.optim.SGD(model.parameters(), 1e-3,\n",
    "                            momentum=0.9,\n",
    "                            weight_decay=1e-4)\n",
    "    \n",
    "    \n",
    "scheduler = StepLR(optimizer, step_size=20, gamma=0.2)\n",
    "checkpoint = torch.load(f'/kaggle/working/{MODEL_NAME}_best.pth.tar', map_location='cuda')\n",
    "model.load_state_dict(checkpoint['state_dict'])\n",
    "optimizer.load_state_dict(checkpoint['optimizer'])\n",
    "scheduler.load_state_dict(checkpoint['scheduler'])\n",
    "start_epoch = checkpoint['epoch']\n",
    "best_acc1 = checkpoint['best_acc1']"
   ]
  },
  {
   "cell_type": "code",
   "execution_count": null,
   "id": "c818ec6f",
   "metadata": {
    "papermill": {
     "duration": null,
     "end_time": null,
     "exception": null,
     "start_time": null,
     "status": "pending"
    },
    "tags": []
   },
   "outputs": [],
   "source": [
    "model.eval()\n",
    "\n",
    "data4test = pd.read_csv(r'/kaggle/input/vk-made-sports-image-classification/test.csv')\n",
    "\n",
    "normalize = transforms.Normalize(mean=[0.485, 0.456, 0.406],\n",
    "                                 std=[0.229, 0.224, 0.225])\n",
    "\n",
    "preprocess = transforms.Compose([\n",
    "    transforms.Resize(256),\n",
    "    transforms.CenterCrop(224),\n",
    "    transforms.ToTensor(),\n",
    "    normalize,\n",
    "])\n",
    "\n",
    "batch = torch.empty(64, 3, 224, 224, dtype=torch.float)\n",
    "label_idx = np.empty((0, 1), dtype=np.int)\n",
    "\n",
    "for idx, row in tqdm(data4test.iterrows()):\n",
    "    item_path = os.path.join(r'/kaggle/input/vk-made-sports-image-classification/test', row.image_id)\n",
    "    with Image.open(item_path).convert(\"RGB\") as img:\n",
    "        batch[idx % 64] = preprocess(img) \n",
    "        \n",
    "    if (idx + 1) % 64 == 0:\n",
    "        output = model(batch)\n",
    "        \n",
    "        _, pred = output.topk(1, 1, True, True) \n",
    "        label_idx = np.vstack((label_idx, pred.cpu().numpy()))\n",
    "\n",
    "output = model(batch)\n",
    "        \n",
    "_, pred = output.topk(1, 1, True, True) \n",
    "label_idx = np.vstack((label_idx, pred.cpu().numpy()))"
   ]
  },
  {
   "cell_type": "code",
   "execution_count": null,
   "id": "828e445b",
   "metadata": {
    "papermill": {
     "duration": null,
     "end_time": null,
     "exception": null,
     "start_time": null,
     "status": "pending"
    },
    "tags": []
   },
   "outputs": [],
   "source": [
    "classes = sorted(['sambo', 'handball', 'ski_race', 'boxing', 'skating', 'javelin-throwing', 'swimming', 'basketball', 'alpinism', 'water_polo', 'football', 'badminton', 'running', 'rugby', 'greco-Roman_wrestling', 'gymnastics', 'pole_vault', 'golf', 'surfing', 'tennis', 'boating', 'sailing', 'arm_wrestling', 'velo', 'horseback_riding', 'taekwondo', 'fencing', 'hockey', 'volleyball', 'archery'])\n",
    "len(classes)"
   ]
  },
  {
   "cell_type": "code",
   "execution_count": null,
   "id": "d1ac2399",
   "metadata": {
    "papermill": {
     "duration": null,
     "end_time": null,
     "exception": null,
     "start_time": null,
     "status": "pending"
    },
    "tags": []
   },
   "outputs": [],
   "source": [
    "idx2lbl = np.vectorize(lambda x: classes[x])\n",
    "data4test['label'] = idx2lbl(label_idx[:len(data4test)])\n",
    "data4test.to_csv('/kaggle/working/submission.csv', index=False)\n",
    "data4test.to_csv('submission.csv', index=False)"
   ]
  },
  {
   "cell_type": "code",
   "execution_count": null,
   "id": "d203d003",
   "metadata": {
    "papermill": {
     "duration": null,
     "end_time": null,
     "exception": null,
     "start_time": null,
     "status": "pending"
    },
    "tags": []
   },
   "outputs": [],
   "source": []
  }
 ],
 "metadata": {
  "kernelspec": {
   "display_name": "Python 3",
   "language": "python",
   "name": "python3"
  },
  "language_info": {
   "codemirror_mode": {
    "name": "ipython",
    "version": 3
   },
   "file_extension": ".py",
   "mimetype": "text/x-python",
   "name": "python",
   "nbconvert_exporter": "python",
   "pygments_lexer": "ipython3",
   "version": "3.7.12"
  },
  "papermill": {
   "default_parameters": {},
   "duration": 117.072716,
   "end_time": "2023-04-15T06:41:19.995959",
   "environment_variables": {},
   "exception": true,
   "input_path": "__notebook__.ipynb",
   "output_path": "__notebook__.ipynb",
   "parameters": {},
   "start_time": "2023-04-15T06:39:22.923243",
   "version": "2.4.0"
  },
  "widgets": {
   "application/vnd.jupyter.widget-state+json": {
    "state": {
     "277cf858438940d2b56176594f2094ec": {
      "model_module": "@jupyter-widgets/controls",
      "model_module_version": "1.5.0",
      "model_name": "HTMLModel",
      "state": {
       "_dom_classes": [],
       "_model_module": "@jupyter-widgets/controls",
       "_model_module_version": "1.5.0",
       "_model_name": "HTMLModel",
       "_view_count": null,
       "_view_module": "@jupyter-widgets/controls",
       "_view_module_version": "1.5.0",
       "_view_name": "HTMLView",
       "description": "",
       "description_tooltip": null,
       "layout": "IPY_MODEL_8cfa961316234ef790ae36359eb36603",
       "placeholder": "​",
       "style": "IPY_MODEL_a57aff28ab114be49452c95dc80b2247",
       "value": " 97.8M/97.8M [00:01&lt;00:00, 80.8MB/s]"
      }
     },
     "3476d310577b4bc2bf2a3f0380bea865": {
      "model_module": "@jupyter-widgets/controls",
      "model_module_version": "1.5.0",
      "model_name": "DescriptionStyleModel",
      "state": {
       "_model_module": "@jupyter-widgets/controls",
       "_model_module_version": "1.5.0",
       "_model_name": "DescriptionStyleModel",
       "_view_count": null,
       "_view_module": "@jupyter-widgets/base",
       "_view_module_version": "1.2.0",
       "_view_name": "StyleView",
       "description_width": ""
      }
     },
     "51abdcc0b2dc4cd891f0db75aca1806c": {
      "model_module": "@jupyter-widgets/base",
      "model_module_version": "1.2.0",
      "model_name": "LayoutModel",
      "state": {
       "_model_module": "@jupyter-widgets/base",
       "_model_module_version": "1.2.0",
       "_model_name": "LayoutModel",
       "_view_count": null,
       "_view_module": "@jupyter-widgets/base",
       "_view_module_version": "1.2.0",
       "_view_name": "LayoutView",
       "align_content": null,
       "align_items": null,
       "align_self": null,
       "border": null,
       "bottom": null,
       "display": null,
       "flex": null,
       "flex_flow": null,
       "grid_area": null,
       "grid_auto_columns": null,
       "grid_auto_flow": null,
       "grid_auto_rows": null,
       "grid_column": null,
       "grid_gap": null,
       "grid_row": null,
       "grid_template_areas": null,
       "grid_template_columns": null,
       "grid_template_rows": null,
       "height": null,
       "justify_content": null,
       "justify_items": null,
       "left": null,
       "margin": null,
       "max_height": null,
       "max_width": null,
       "min_height": null,
       "min_width": null,
       "object_fit": null,
       "object_position": null,
       "order": null,
       "overflow": null,
       "overflow_x": null,
       "overflow_y": null,
       "padding": null,
       "right": null,
       "top": null,
       "visibility": null,
       "width": null
      }
     },
     "8cfa961316234ef790ae36359eb36603": {
      "model_module": "@jupyter-widgets/base",
      "model_module_version": "1.2.0",
      "model_name": "LayoutModel",
      "state": {
       "_model_module": "@jupyter-widgets/base",
       "_model_module_version": "1.2.0",
       "_model_name": "LayoutModel",
       "_view_count": null,
       "_view_module": "@jupyter-widgets/base",
       "_view_module_version": "1.2.0",
       "_view_name": "LayoutView",
       "align_content": null,
       "align_items": null,
       "align_self": null,
       "border": null,
       "bottom": null,
       "display": null,
       "flex": null,
       "flex_flow": null,
       "grid_area": null,
       "grid_auto_columns": null,
       "grid_auto_flow": null,
       "grid_auto_rows": null,
       "grid_column": null,
       "grid_gap": null,
       "grid_row": null,
       "grid_template_areas": null,
       "grid_template_columns": null,
       "grid_template_rows": null,
       "height": null,
       "justify_content": null,
       "justify_items": null,
       "left": null,
       "margin": null,
       "max_height": null,
       "max_width": null,
       "min_height": null,
       "min_width": null,
       "object_fit": null,
       "object_position": null,
       "order": null,
       "overflow": null,
       "overflow_x": null,
       "overflow_y": null,
       "padding": null,
       "right": null,
       "top": null,
       "visibility": null,
       "width": null
      }
     },
     "8d0f03f3f734483bb63b8a88ced58b12": {
      "model_module": "@jupyter-widgets/base",
      "model_module_version": "1.2.0",
      "model_name": "LayoutModel",
      "state": {
       "_model_module": "@jupyter-widgets/base",
       "_model_module_version": "1.2.0",
       "_model_name": "LayoutModel",
       "_view_count": null,
       "_view_module": "@jupyter-widgets/base",
       "_view_module_version": "1.2.0",
       "_view_name": "LayoutView",
       "align_content": null,
       "align_items": null,
       "align_self": null,
       "border": null,
       "bottom": null,
       "display": null,
       "flex": null,
       "flex_flow": null,
       "grid_area": null,
       "grid_auto_columns": null,
       "grid_auto_flow": null,
       "grid_auto_rows": null,
       "grid_column": null,
       "grid_gap": null,
       "grid_row": null,
       "grid_template_areas": null,
       "grid_template_columns": null,
       "grid_template_rows": null,
       "height": null,
       "justify_content": null,
       "justify_items": null,
       "left": null,
       "margin": null,
       "max_height": null,
       "max_width": null,
       "min_height": null,
       "min_width": null,
       "object_fit": null,
       "object_position": null,
       "order": null,
       "overflow": null,
       "overflow_x": null,
       "overflow_y": null,
       "padding": null,
       "right": null,
       "top": null,
       "visibility": null,
       "width": null
      }
     },
     "8daaff8421404b628b6557b80d52f38a": {
      "model_module": "@jupyter-widgets/base",
      "model_module_version": "1.2.0",
      "model_name": "LayoutModel",
      "state": {
       "_model_module": "@jupyter-widgets/base",
       "_model_module_version": "1.2.0",
       "_model_name": "LayoutModel",
       "_view_count": null,
       "_view_module": "@jupyter-widgets/base",
       "_view_module_version": "1.2.0",
       "_view_name": "LayoutView",
       "align_content": null,
       "align_items": null,
       "align_self": null,
       "border": null,
       "bottom": null,
       "display": null,
       "flex": null,
       "flex_flow": null,
       "grid_area": null,
       "grid_auto_columns": null,
       "grid_auto_flow": null,
       "grid_auto_rows": null,
       "grid_column": null,
       "grid_gap": null,
       "grid_row": null,
       "grid_template_areas": null,
       "grid_template_columns": null,
       "grid_template_rows": null,
       "height": null,
       "justify_content": null,
       "justify_items": null,
       "left": null,
       "margin": null,
       "max_height": null,
       "max_width": null,
       "min_height": null,
       "min_width": null,
       "object_fit": null,
       "object_position": null,
       "order": null,
       "overflow": null,
       "overflow_x": null,
       "overflow_y": null,
       "padding": null,
       "right": null,
       "top": null,
       "visibility": null,
       "width": null
      }
     },
     "a57aff28ab114be49452c95dc80b2247": {
      "model_module": "@jupyter-widgets/controls",
      "model_module_version": "1.5.0",
      "model_name": "DescriptionStyleModel",
      "state": {
       "_model_module": "@jupyter-widgets/controls",
       "_model_module_version": "1.5.0",
       "_model_name": "DescriptionStyleModel",
       "_view_count": null,
       "_view_module": "@jupyter-widgets/base",
       "_view_module_version": "1.2.0",
       "_view_name": "StyleView",
       "description_width": ""
      }
     },
     "ae8dd0592d914956966c5dd18fd502e6": {
      "model_module": "@jupyter-widgets/controls",
      "model_module_version": "1.5.0",
      "model_name": "HBoxModel",
      "state": {
       "_dom_classes": [],
       "_model_module": "@jupyter-widgets/controls",
       "_model_module_version": "1.5.0",
       "_model_name": "HBoxModel",
       "_view_count": null,
       "_view_module": "@jupyter-widgets/controls",
       "_view_module_version": "1.5.0",
       "_view_name": "HBoxView",
       "box_style": "",
       "children": [
        "IPY_MODEL_bfb7b3977aac4a62a965d6acb23b7317",
        "IPY_MODEL_fa1aac6f8bd14891a63df6fcce72938d",
        "IPY_MODEL_277cf858438940d2b56176594f2094ec"
       ],
       "layout": "IPY_MODEL_8d0f03f3f734483bb63b8a88ced58b12"
      }
     },
     "bfb7b3977aac4a62a965d6acb23b7317": {
      "model_module": "@jupyter-widgets/controls",
      "model_module_version": "1.5.0",
      "model_name": "HTMLModel",
      "state": {
       "_dom_classes": [],
       "_model_module": "@jupyter-widgets/controls",
       "_model_module_version": "1.5.0",
       "_model_name": "HTMLModel",
       "_view_count": null,
       "_view_module": "@jupyter-widgets/controls",
       "_view_module_version": "1.5.0",
       "_view_name": "HTMLView",
       "description": "",
       "description_tooltip": null,
       "layout": "IPY_MODEL_51abdcc0b2dc4cd891f0db75aca1806c",
       "placeholder": "​",
       "style": "IPY_MODEL_3476d310577b4bc2bf2a3f0380bea865",
       "value": "100%"
      }
     },
     "d0fddbb55ad946839ef337cd078ea974": {
      "model_module": "@jupyter-widgets/controls",
      "model_module_version": "1.5.0",
      "model_name": "ProgressStyleModel",
      "state": {
       "_model_module": "@jupyter-widgets/controls",
       "_model_module_version": "1.5.0",
       "_model_name": "ProgressStyleModel",
       "_view_count": null,
       "_view_module": "@jupyter-widgets/base",
       "_view_module_version": "1.2.0",
       "_view_name": "StyleView",
       "bar_color": null,
       "description_width": ""
      }
     },
     "fa1aac6f8bd14891a63df6fcce72938d": {
      "model_module": "@jupyter-widgets/controls",
      "model_module_version": "1.5.0",
      "model_name": "FloatProgressModel",
      "state": {
       "_dom_classes": [],
       "_model_module": "@jupyter-widgets/controls",
       "_model_module_version": "1.5.0",
       "_model_name": "FloatProgressModel",
       "_view_count": null,
       "_view_module": "@jupyter-widgets/controls",
       "_view_module_version": "1.5.0",
       "_view_name": "ProgressView",
       "bar_style": "success",
       "description": "",
       "description_tooltip": null,
       "layout": "IPY_MODEL_8daaff8421404b628b6557b80d52f38a",
       "max": 102540417.0,
       "min": 0.0,
       "orientation": "horizontal",
       "style": "IPY_MODEL_d0fddbb55ad946839ef337cd078ea974",
       "value": 102540417.0
      }
     }
    },
    "version_major": 2,
    "version_minor": 0
   }
  }
 },
 "nbformat": 4,
 "nbformat_minor": 5
}
